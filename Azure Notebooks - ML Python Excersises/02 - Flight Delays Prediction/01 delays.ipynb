{
  "cells": [
    {
      "cell_type": "markdown",
      "source": [
        "# Get and Import dataset"
      ],
      "metadata": {
        "nteract": {
          "transient": {
            "deleting": false
          }
        }
      }
    },
    {
      "cell_type": "code",
      "source": [
        "!curl https://topcs.blob.core.windows.net/public/FlightData.csv -o flightdata.csv"
      ],
      "outputs": [
        {
          "output_type": "stream",
          "name": "stdout",
          "text": "  % Total    % Received % Xferd  Average Speed   Time    Time     Time  Current\r\n                                 Dload  Upload   Total   Spent    Left  Speed\r\n\r  0     0    0     0    0     0      0      0 --:--:-- --:--:-- --:--:--     0curl: (6) Could not resolve host: topcs.blob.core.windows.net\r\n"
        }
      ],
      "execution_count": 1,
      "metadata": {}
    },
    {
      "cell_type": "code",
      "source": [
        "import pandas as pd\r\n",
        "\r\n",
        "df = pd.read_csv('flightdata.csv')\r\n",
        "df.head()"
      ],
      "outputs": [
        {
          "output_type": "execute_result",
          "execution_count": 4,
          "data": {
            "text/plain": "   YEAR  QUARTER  MONTH  DAY_OF_MONTH  DAY_OF_WEEK UNIQUE_CARRIER TAIL_NUM  \\\n0  2016        1      1             1            5             DL   N836DN   \n1  2016        1      1             1            5             DL   N964DN   \n2  2016        1      1             1            5             DL   N813DN   \n3  2016        1      1             1            5             DL   N587NW   \n4  2016        1      1             1            5             DL   N836DN   \n\n   FL_NUM  ORIGIN_AIRPORT_ID ORIGIN  ...  CRS_ARR_TIME ARR_TIME  ARR_DELAY  \\\n0    1399              10397    ATL  ...          2143   2102.0      -41.0   \n1    1476              11433    DTW  ...          1435   1439.0        4.0   \n2    1597              10397    ATL  ...          1215   1142.0      -33.0   \n3    1768              14747    SEA  ...          1335   1345.0       10.0   \n4    1823              14747    SEA  ...           607    615.0        8.0   \n\n   ARR_DEL15  CANCELLED  DIVERTED  CRS_ELAPSED_TIME  ACTUAL_ELAPSED_TIME  \\\n0        0.0        0.0       0.0             338.0                295.0   \n1        0.0        0.0       0.0             110.0                115.0   \n2        0.0        0.0       0.0             335.0                300.0   \n3        0.0        0.0       0.0             196.0                205.0   \n4        0.0        0.0       0.0             247.0                259.0   \n\n   DISTANCE  Unnamed: 25  \n0    2182.0          NaN  \n1     528.0          NaN  \n2    2182.0          NaN  \n3    1399.0          NaN  \n4    1927.0          NaN  \n\n[5 rows x 26 columns]",
            "text/html": "<div>\n<style scoped>\n    .dataframe tbody tr th:only-of-type {\n        vertical-align: middle;\n    }\n\n    .dataframe tbody tr th {\n        vertical-align: top;\n    }\n\n    .dataframe thead th {\n        text-align: right;\n    }\n</style>\n<table border=\"1\" class=\"dataframe\">\n  <thead>\n    <tr style=\"text-align: right;\">\n      <th></th>\n      <th>YEAR</th>\n      <th>QUARTER</th>\n      <th>MONTH</th>\n      <th>DAY_OF_MONTH</th>\n      <th>DAY_OF_WEEK</th>\n      <th>UNIQUE_CARRIER</th>\n      <th>TAIL_NUM</th>\n      <th>FL_NUM</th>\n      <th>ORIGIN_AIRPORT_ID</th>\n      <th>ORIGIN</th>\n      <th>...</th>\n      <th>CRS_ARR_TIME</th>\n      <th>ARR_TIME</th>\n      <th>ARR_DELAY</th>\n      <th>ARR_DEL15</th>\n      <th>CANCELLED</th>\n      <th>DIVERTED</th>\n      <th>CRS_ELAPSED_TIME</th>\n      <th>ACTUAL_ELAPSED_TIME</th>\n      <th>DISTANCE</th>\n      <th>Unnamed: 25</th>\n    </tr>\n  </thead>\n  <tbody>\n    <tr>\n      <th>0</th>\n      <td>2016</td>\n      <td>1</td>\n      <td>1</td>\n      <td>1</td>\n      <td>5</td>\n      <td>DL</td>\n      <td>N836DN</td>\n      <td>1399</td>\n      <td>10397</td>\n      <td>ATL</td>\n      <td>...</td>\n      <td>2143</td>\n      <td>2102.0</td>\n      <td>-41.0</td>\n      <td>0.0</td>\n      <td>0.0</td>\n      <td>0.0</td>\n      <td>338.0</td>\n      <td>295.0</td>\n      <td>2182.0</td>\n      <td>NaN</td>\n    </tr>\n    <tr>\n      <th>1</th>\n      <td>2016</td>\n      <td>1</td>\n      <td>1</td>\n      <td>1</td>\n      <td>5</td>\n      <td>DL</td>\n      <td>N964DN</td>\n      <td>1476</td>\n      <td>11433</td>\n      <td>DTW</td>\n      <td>...</td>\n      <td>1435</td>\n      <td>1439.0</td>\n      <td>4.0</td>\n      <td>0.0</td>\n      <td>0.0</td>\n      <td>0.0</td>\n      <td>110.0</td>\n      <td>115.0</td>\n      <td>528.0</td>\n      <td>NaN</td>\n    </tr>\n    <tr>\n      <th>2</th>\n      <td>2016</td>\n      <td>1</td>\n      <td>1</td>\n      <td>1</td>\n      <td>5</td>\n      <td>DL</td>\n      <td>N813DN</td>\n      <td>1597</td>\n      <td>10397</td>\n      <td>ATL</td>\n      <td>...</td>\n      <td>1215</td>\n      <td>1142.0</td>\n      <td>-33.0</td>\n      <td>0.0</td>\n      <td>0.0</td>\n      <td>0.0</td>\n      <td>335.0</td>\n      <td>300.0</td>\n      <td>2182.0</td>\n      <td>NaN</td>\n    </tr>\n    <tr>\n      <th>3</th>\n      <td>2016</td>\n      <td>1</td>\n      <td>1</td>\n      <td>1</td>\n      <td>5</td>\n      <td>DL</td>\n      <td>N587NW</td>\n      <td>1768</td>\n      <td>14747</td>\n      <td>SEA</td>\n      <td>...</td>\n      <td>1335</td>\n      <td>1345.0</td>\n      <td>10.0</td>\n      <td>0.0</td>\n      <td>0.0</td>\n      <td>0.0</td>\n      <td>196.0</td>\n      <td>205.0</td>\n      <td>1399.0</td>\n      <td>NaN</td>\n    </tr>\n    <tr>\n      <th>4</th>\n      <td>2016</td>\n      <td>1</td>\n      <td>1</td>\n      <td>1</td>\n      <td>5</td>\n      <td>DL</td>\n      <td>N836DN</td>\n      <td>1823</td>\n      <td>14747</td>\n      <td>SEA</td>\n      <td>...</td>\n      <td>607</td>\n      <td>615.0</td>\n      <td>8.0</td>\n      <td>0.0</td>\n      <td>0.0</td>\n      <td>0.0</td>\n      <td>247.0</td>\n      <td>259.0</td>\n      <td>1927.0</td>\n      <td>NaN</td>\n    </tr>\n  </tbody>\n</table>\n<p>5 rows × 26 columns</p>\n</div>"
          },
          "metadata": {}
        }
      ],
      "execution_count": 4,
      "metadata": {
        "jupyter": {
          "source_hidden": false,
          "outputs_hidden": false
        },
        "nteract": {
          "transient": {
            "deleting": false
          }
        },
        "gather": {
          "logged": 1664457596654
        }
      }
    },
    {
      "cell_type": "code",
      "source": [
        "df.shape"
      ],
      "outputs": [
        {
          "output_type": "execute_result",
          "execution_count": 5,
          "data": {
            "text/plain": "(11231, 26)"
          },
          "metadata": {}
        }
      ],
      "execution_count": 5,
      "metadata": {
        "jupyter": {
          "source_hidden": false,
          "outputs_hidden": false
        },
        "nteract": {
          "transient": {
            "deleting": false
          }
        },
        "gather": {
          "logged": 1664457619005
        }
      }
    },
    {
      "cell_type": "markdown",
      "source": [
        "# Check for null values"
      ],
      "metadata": {
        "nteract": {
          "transient": {
            "deleting": false
          }
        }
      }
    },
    {
      "cell_type": "code",
      "source": [
        "df.isnull().values.any()"
      ],
      "outputs": [
        {
          "output_type": "execute_result",
          "execution_count": 6,
          "data": {
            "text/plain": "True"
          },
          "metadata": {}
        }
      ],
      "execution_count": 6,
      "metadata": {
        "jupyter": {
          "source_hidden": false,
          "outputs_hidden": false
        },
        "nteract": {
          "transient": {
            "deleting": false
          }
        },
        "gather": {
          "logged": 1664457668688
        }
      }
    },
    {
      "cell_type": "code",
      "source": [
        "df.isnull().sum()"
      ],
      "outputs": [
        {
          "output_type": "execute_result",
          "execution_count": 7,
          "data": {
            "text/plain": "YEAR                       0\nQUARTER                    0\nMONTH                      0\nDAY_OF_MONTH               0\nDAY_OF_WEEK                0\nUNIQUE_CARRIER             0\nTAIL_NUM                   0\nFL_NUM                     0\nORIGIN_AIRPORT_ID          0\nORIGIN                     0\nDEST_AIRPORT_ID            0\nDEST                       0\nCRS_DEP_TIME               0\nDEP_TIME                 107\nDEP_DELAY                107\nDEP_DEL15                107\nCRS_ARR_TIME               0\nARR_TIME                 115\nARR_DELAY                188\nARR_DEL15                188\nCANCELLED                  0\nDIVERTED                   0\nCRS_ELAPSED_TIME           0\nACTUAL_ELAPSED_TIME      188\nDISTANCE                   0\nUnnamed: 25            11231\ndtype: int64"
          },
          "metadata": {}
        }
      ],
      "execution_count": 7,
      "metadata": {
        "jupyter": {
          "source_hidden": false,
          "outputs_hidden": false
        },
        "nteract": {
          "transient": {
            "deleting": false
          }
        },
        "gather": {
          "logged": 1664457678222
        }
      }
    },
    {
      "cell_type": "code",
      "source": [
        "df = df.drop('Unnamed: 25', axis=1)\r\n",
        "df.isnull().sum()"
      ],
      "outputs": [
        {
          "output_type": "execute_result",
          "execution_count": 8,
          "data": {
            "text/plain": "YEAR                     0\nQUARTER                  0\nMONTH                    0\nDAY_OF_MONTH             0\nDAY_OF_WEEK              0\nUNIQUE_CARRIER           0\nTAIL_NUM                 0\nFL_NUM                   0\nORIGIN_AIRPORT_ID        0\nORIGIN                   0\nDEST_AIRPORT_ID          0\nDEST                     0\nCRS_DEP_TIME             0\nDEP_TIME               107\nDEP_DELAY              107\nDEP_DEL15              107\nCRS_ARR_TIME             0\nARR_TIME               115\nARR_DELAY              188\nARR_DEL15              188\nCANCELLED                0\nDIVERTED                 0\nCRS_ELAPSED_TIME         0\nACTUAL_ELAPSED_TIME    188\nDISTANCE                 0\ndtype: int64"
          },
          "metadata": {}
        }
      ],
      "execution_count": 8,
      "metadata": {
        "jupyter": {
          "source_hidden": false,
          "outputs_hidden": false
        },
        "nteract": {
          "transient": {
            "deleting": false
          }
        },
        "gather": {
          "logged": 1664457707471
        }
      }
    },
    {
      "cell_type": "markdown",
      "source": [
        "## Filter columns to use"
      ],
      "metadata": {
        "nteract": {
          "transient": {
            "deleting": false
          }
        }
      }
    },
    {
      "cell_type": "code",
      "source": [
        "df = df[[\"MONTH\", \"DAY_OF_MONTH\", \"DAY_OF_WEEK\", \"ORIGIN\", \"DEST\", \"CRS_DEP_TIME\", \"ARR_DEL15\"]]\r\n",
        "df.isnull().sum()"
      ],
      "outputs": [
        {
          "output_type": "execute_result",
          "execution_count": 9,
          "data": {
            "text/plain": "MONTH             0\nDAY_OF_MONTH      0\nDAY_OF_WEEK       0\nORIGIN            0\nDEST              0\nCRS_DEP_TIME      0\nARR_DEL15       188\ndtype: int64"
          },
          "metadata": {}
        }
      ],
      "execution_count": 9,
      "metadata": {
        "jupyter": {
          "source_hidden": false,
          "outputs_hidden": false
        },
        "nteract": {
          "transient": {
            "deleting": false
          }
        },
        "gather": {
          "logged": 1664457756622
        }
      }
    },
    {
      "cell_type": "code",
      "source": [
        "df[df.isnull().values.any(axis=1)].head()"
      ],
      "outputs": [
        {
          "output_type": "execute_result",
          "execution_count": 10,
          "data": {
            "text/plain": "     MONTH  DAY_OF_MONTH  DAY_OF_WEEK ORIGIN DEST  CRS_DEP_TIME  ARR_DEL15\n177      1             9            6    MSP  SEA           701        NaN\n179      1            10            7    MSP  DTW          1348        NaN\n184      1            10            7    MSP  DTW           625        NaN\n210      1            10            7    DTW  MSP          1200        NaN\n478      1            22            5    SEA  JFK          2305        NaN",
            "text/html": "<div>\n<style scoped>\n    .dataframe tbody tr th:only-of-type {\n        vertical-align: middle;\n    }\n\n    .dataframe tbody tr th {\n        vertical-align: top;\n    }\n\n    .dataframe thead th {\n        text-align: right;\n    }\n</style>\n<table border=\"1\" class=\"dataframe\">\n  <thead>\n    <tr style=\"text-align: right;\">\n      <th></th>\n      <th>MONTH</th>\n      <th>DAY_OF_MONTH</th>\n      <th>DAY_OF_WEEK</th>\n      <th>ORIGIN</th>\n      <th>DEST</th>\n      <th>CRS_DEP_TIME</th>\n      <th>ARR_DEL15</th>\n    </tr>\n  </thead>\n  <tbody>\n    <tr>\n      <th>177</th>\n      <td>1</td>\n      <td>9</td>\n      <td>6</td>\n      <td>MSP</td>\n      <td>SEA</td>\n      <td>701</td>\n      <td>NaN</td>\n    </tr>\n    <tr>\n      <th>179</th>\n      <td>1</td>\n      <td>10</td>\n      <td>7</td>\n      <td>MSP</td>\n      <td>DTW</td>\n      <td>1348</td>\n      <td>NaN</td>\n    </tr>\n    <tr>\n      <th>184</th>\n      <td>1</td>\n      <td>10</td>\n      <td>7</td>\n      <td>MSP</td>\n      <td>DTW</td>\n      <td>625</td>\n      <td>NaN</td>\n    </tr>\n    <tr>\n      <th>210</th>\n      <td>1</td>\n      <td>10</td>\n      <td>7</td>\n      <td>DTW</td>\n      <td>MSP</td>\n      <td>1200</td>\n      <td>NaN</td>\n    </tr>\n    <tr>\n      <th>478</th>\n      <td>1</td>\n      <td>22</td>\n      <td>5</td>\n      <td>SEA</td>\n      <td>JFK</td>\n      <td>2305</td>\n      <td>NaN</td>\n    </tr>\n  </tbody>\n</table>\n</div>"
          },
          "metadata": {}
        }
      ],
      "execution_count": 10,
      "metadata": {
        "jupyter": {
          "source_hidden": false,
          "outputs_hidden": false
        },
        "nteract": {
          "transient": {
            "deleting": false
          }
        },
        "gather": {
          "logged": 1664457778933
        }
      }
    },
    {
      "cell_type": "code",
      "source": [
        "df = df.fillna({'ARR_DEL15': 1})\r\n",
        "df.iloc[177:185]"
      ],
      "outputs": [
        {
          "output_type": "execute_result",
          "execution_count": 11,
          "data": {
            "text/plain": "     MONTH  DAY_OF_MONTH  DAY_OF_WEEK ORIGIN DEST  CRS_DEP_TIME  ARR_DEL15\n177      1             9            6    MSP  SEA           701        1.0\n178      1             9            6    DTW  JFK          1527        0.0\n179      1            10            7    MSP  DTW          1348        1.0\n180      1            10            7    DTW  MSP          1540        0.0\n181      1            10            7    JFK  ATL          1325        0.0\n182      1            10            7    JFK  ATL           610        0.0\n183      1            10            7    JFK  SEA          1615        0.0\n184      1            10            7    MSP  DTW           625        1.0",
            "text/html": "<div>\n<style scoped>\n    .dataframe tbody tr th:only-of-type {\n        vertical-align: middle;\n    }\n\n    .dataframe tbody tr th {\n        vertical-align: top;\n    }\n\n    .dataframe thead th {\n        text-align: right;\n    }\n</style>\n<table border=\"1\" class=\"dataframe\">\n  <thead>\n    <tr style=\"text-align: right;\">\n      <th></th>\n      <th>MONTH</th>\n      <th>DAY_OF_MONTH</th>\n      <th>DAY_OF_WEEK</th>\n      <th>ORIGIN</th>\n      <th>DEST</th>\n      <th>CRS_DEP_TIME</th>\n      <th>ARR_DEL15</th>\n    </tr>\n  </thead>\n  <tbody>\n    <tr>\n      <th>177</th>\n      <td>1</td>\n      <td>9</td>\n      <td>6</td>\n      <td>MSP</td>\n      <td>SEA</td>\n      <td>701</td>\n      <td>1.0</td>\n    </tr>\n    <tr>\n      <th>178</th>\n      <td>1</td>\n      <td>9</td>\n      <td>6</td>\n      <td>DTW</td>\n      <td>JFK</td>\n      <td>1527</td>\n      <td>0.0</td>\n    </tr>\n    <tr>\n      <th>179</th>\n      <td>1</td>\n      <td>10</td>\n      <td>7</td>\n      <td>MSP</td>\n      <td>DTW</td>\n      <td>1348</td>\n      <td>1.0</td>\n    </tr>\n    <tr>\n      <th>180</th>\n      <td>1</td>\n      <td>10</td>\n      <td>7</td>\n      <td>DTW</td>\n      <td>MSP</td>\n      <td>1540</td>\n      <td>0.0</td>\n    </tr>\n    <tr>\n      <th>181</th>\n      <td>1</td>\n      <td>10</td>\n      <td>7</td>\n      <td>JFK</td>\n      <td>ATL</td>\n      <td>1325</td>\n      <td>0.0</td>\n    </tr>\n    <tr>\n      <th>182</th>\n      <td>1</td>\n      <td>10</td>\n      <td>7</td>\n      <td>JFK</td>\n      <td>ATL</td>\n      <td>610</td>\n      <td>0.0</td>\n    </tr>\n    <tr>\n      <th>183</th>\n      <td>1</td>\n      <td>10</td>\n      <td>7</td>\n      <td>JFK</td>\n      <td>SEA</td>\n      <td>1615</td>\n      <td>0.0</td>\n    </tr>\n    <tr>\n      <th>184</th>\n      <td>1</td>\n      <td>10</td>\n      <td>7</td>\n      <td>MSP</td>\n      <td>DTW</td>\n      <td>625</td>\n      <td>1.0</td>\n    </tr>\n  </tbody>\n</table>\n</div>"
          },
          "metadata": {}
        }
      ],
      "execution_count": 11,
      "metadata": {
        "jupyter": {
          "source_hidden": false,
          "outputs_hidden": false
        },
        "nteract": {
          "transient": {
            "deleting": false
          }
        },
        "gather": {
          "logged": 1664457825345
        }
      }
    },
    {
      "cell_type": "markdown",
      "source": [
        "## Prepare data"
      ],
      "metadata": {
        "nteract": {
          "transient": {
            "deleting": false
          }
        }
      }
    },
    {
      "cell_type": "code",
      "source": [
        "import math\r\n",
        "\r\n",
        "for index, row in df.iterrows():\r\n",
        "    df.loc[index, 'CRS_DEP_TIME'] = math.floor(row['CRS_DEP_TIME'] / 100)\r\n",
        "df.head()"
      ],
      "outputs": [
        {
          "output_type": "execute_result",
          "execution_count": 12,
          "data": {
            "text/plain": "   MONTH  DAY_OF_MONTH  DAY_OF_WEEK ORIGIN DEST  CRS_DEP_TIME  ARR_DEL15\n0      1             1            5    ATL  SEA            19        0.0\n1      1             1            5    DTW  MSP            13        0.0\n2      1             1            5    ATL  SEA             9        0.0\n3      1             1            5    SEA  MSP             8        0.0\n4      1             1            5    SEA  DTW            23        0.0",
            "text/html": "<div>\n<style scoped>\n    .dataframe tbody tr th:only-of-type {\n        vertical-align: middle;\n    }\n\n    .dataframe tbody tr th {\n        vertical-align: top;\n    }\n\n    .dataframe thead th {\n        text-align: right;\n    }\n</style>\n<table border=\"1\" class=\"dataframe\">\n  <thead>\n    <tr style=\"text-align: right;\">\n      <th></th>\n      <th>MONTH</th>\n      <th>DAY_OF_MONTH</th>\n      <th>DAY_OF_WEEK</th>\n      <th>ORIGIN</th>\n      <th>DEST</th>\n      <th>CRS_DEP_TIME</th>\n      <th>ARR_DEL15</th>\n    </tr>\n  </thead>\n  <tbody>\n    <tr>\n      <th>0</th>\n      <td>1</td>\n      <td>1</td>\n      <td>5</td>\n      <td>ATL</td>\n      <td>SEA</td>\n      <td>19</td>\n      <td>0.0</td>\n    </tr>\n    <tr>\n      <th>1</th>\n      <td>1</td>\n      <td>1</td>\n      <td>5</td>\n      <td>DTW</td>\n      <td>MSP</td>\n      <td>13</td>\n      <td>0.0</td>\n    </tr>\n    <tr>\n      <th>2</th>\n      <td>1</td>\n      <td>1</td>\n      <td>5</td>\n      <td>ATL</td>\n      <td>SEA</td>\n      <td>9</td>\n      <td>0.0</td>\n    </tr>\n    <tr>\n      <th>3</th>\n      <td>1</td>\n      <td>1</td>\n      <td>5</td>\n      <td>SEA</td>\n      <td>MSP</td>\n      <td>8</td>\n      <td>0.0</td>\n    </tr>\n    <tr>\n      <th>4</th>\n      <td>1</td>\n      <td>1</td>\n      <td>5</td>\n      <td>SEA</td>\n      <td>DTW</td>\n      <td>23</td>\n      <td>0.0</td>\n    </tr>\n  </tbody>\n</table>\n</div>"
          },
          "metadata": {}
        }
      ],
      "execution_count": 12,
      "metadata": {
        "jupyter": {
          "source_hidden": false,
          "outputs_hidden": false
        },
        "nteract": {
          "transient": {
            "deleting": false
          }
        },
        "gather": {
          "logged": 1664457891038
        }
      }
    },
    {
      "cell_type": "code",
      "source": [
        "df = pd.get_dummies(df, columns=['ORIGIN', 'DEST'])\r\n",
        "df.head()"
      ],
      "outputs": [
        {
          "output_type": "execute_result",
          "execution_count": 13,
          "data": {
            "text/plain": "   MONTH  DAY_OF_MONTH  DAY_OF_WEEK  CRS_DEP_TIME  ARR_DEL15  ORIGIN_ATL  \\\n0      1             1            5            19        0.0           1   \n1      1             1            5            13        0.0           0   \n2      1             1            5             9        0.0           1   \n3      1             1            5             8        0.0           0   \n4      1             1            5            23        0.0           0   \n\n   ORIGIN_DTW  ORIGIN_JFK  ORIGIN_MSP  ORIGIN_SEA  DEST_ATL  DEST_DTW  \\\n0           0           0           0           0         0         0   \n1           1           0           0           0         0         0   \n2           0           0           0           0         0         0   \n3           0           0           0           1         0         0   \n4           0           0           0           1         0         1   \n\n   DEST_JFK  DEST_MSP  DEST_SEA  \n0         0         0         1  \n1         0         1         0  \n2         0         0         1  \n3         0         1         0  \n4         0         0         0  ",
            "text/html": "<div>\n<style scoped>\n    .dataframe tbody tr th:only-of-type {\n        vertical-align: middle;\n    }\n\n    .dataframe tbody tr th {\n        vertical-align: top;\n    }\n\n    .dataframe thead th {\n        text-align: right;\n    }\n</style>\n<table border=\"1\" class=\"dataframe\">\n  <thead>\n    <tr style=\"text-align: right;\">\n      <th></th>\n      <th>MONTH</th>\n      <th>DAY_OF_MONTH</th>\n      <th>DAY_OF_WEEK</th>\n      <th>CRS_DEP_TIME</th>\n      <th>ARR_DEL15</th>\n      <th>ORIGIN_ATL</th>\n      <th>ORIGIN_DTW</th>\n      <th>ORIGIN_JFK</th>\n      <th>ORIGIN_MSP</th>\n      <th>ORIGIN_SEA</th>\n      <th>DEST_ATL</th>\n      <th>DEST_DTW</th>\n      <th>DEST_JFK</th>\n      <th>DEST_MSP</th>\n      <th>DEST_SEA</th>\n    </tr>\n  </thead>\n  <tbody>\n    <tr>\n      <th>0</th>\n      <td>1</td>\n      <td>1</td>\n      <td>5</td>\n      <td>19</td>\n      <td>0.0</td>\n      <td>1</td>\n      <td>0</td>\n      <td>0</td>\n      <td>0</td>\n      <td>0</td>\n      <td>0</td>\n      <td>0</td>\n      <td>0</td>\n      <td>0</td>\n      <td>1</td>\n    </tr>\n    <tr>\n      <th>1</th>\n      <td>1</td>\n      <td>1</td>\n      <td>5</td>\n      <td>13</td>\n      <td>0.0</td>\n      <td>0</td>\n      <td>1</td>\n      <td>0</td>\n      <td>0</td>\n      <td>0</td>\n      <td>0</td>\n      <td>0</td>\n      <td>0</td>\n      <td>1</td>\n      <td>0</td>\n    </tr>\n    <tr>\n      <th>2</th>\n      <td>1</td>\n      <td>1</td>\n      <td>5</td>\n      <td>9</td>\n      <td>0.0</td>\n      <td>1</td>\n      <td>0</td>\n      <td>0</td>\n      <td>0</td>\n      <td>0</td>\n      <td>0</td>\n      <td>0</td>\n      <td>0</td>\n      <td>0</td>\n      <td>1</td>\n    </tr>\n    <tr>\n      <th>3</th>\n      <td>1</td>\n      <td>1</td>\n      <td>5</td>\n      <td>8</td>\n      <td>0.0</td>\n      <td>0</td>\n      <td>0</td>\n      <td>0</td>\n      <td>0</td>\n      <td>1</td>\n      <td>0</td>\n      <td>0</td>\n      <td>0</td>\n      <td>1</td>\n      <td>0</td>\n    </tr>\n    <tr>\n      <th>4</th>\n      <td>1</td>\n      <td>1</td>\n      <td>5</td>\n      <td>23</td>\n      <td>0.0</td>\n      <td>0</td>\n      <td>0</td>\n      <td>0</td>\n      <td>0</td>\n      <td>1</td>\n      <td>0</td>\n      <td>1</td>\n      <td>0</td>\n      <td>0</td>\n      <td>0</td>\n    </tr>\n  </tbody>\n</table>\n</div>"
          },
          "metadata": {}
        }
      ],
      "execution_count": 13,
      "metadata": {
        "jupyter": {
          "source_hidden": false,
          "outputs_hidden": false
        },
        "nteract": {
          "transient": {
            "deleting": false
          }
        },
        "gather": {
          "logged": 1664457928664
        }
      }
    },
    {
      "cell_type": "markdown",
      "source": [
        "## Build the model"
      ],
      "metadata": {
        "nteract": {
          "transient": {
            "deleting": false
          }
        }
      }
    },
    {
      "cell_type": "code",
      "source": [
        "from sklearn.model_selection import train_test_split\r\n",
        "train_x, test_x, train_y, test_y = train_test_split(df.drop('ARR_DEL15', axis=1), df['ARR_DEL15'], test_size=0.2, random_state=42)"
      ],
      "outputs": [],
      "execution_count": 14,
      "metadata": {
        "jupyter": {
          "source_hidden": false,
          "outputs_hidden": false
        },
        "nteract": {
          "transient": {
            "deleting": false
          }
        },
        "gather": {
          "logged": 1664458025415
        }
      }
    },
    {
      "cell_type": "code",
      "source": [
        "train_x.shape"
      ],
      "outputs": [
        {
          "output_type": "execute_result",
          "execution_count": 15,
          "data": {
            "text/plain": "(8984, 14)"
          },
          "metadata": {}
        }
      ],
      "execution_count": 15,
      "metadata": {
        "jupyter": {
          "source_hidden": false,
          "outputs_hidden": false
        },
        "nteract": {
          "transient": {
            "deleting": false
          }
        },
        "gather": {
          "logged": 1664458027254
        }
      }
    },
    {
      "cell_type": "code",
      "source": [
        "test_x.shape"
      ],
      "outputs": [
        {
          "output_type": "execute_result",
          "execution_count": 16,
          "data": {
            "text/plain": "(2247, 14)"
          },
          "metadata": {}
        }
      ],
      "execution_count": 16,
      "metadata": {
        "jupyter": {
          "source_hidden": false,
          "outputs_hidden": false
        },
        "nteract": {
          "transient": {
            "deleting": false
          }
        },
        "gather": {
          "logged": 1664458029782
        }
      }
    },
    {
      "cell_type": "markdown",
      "source": [
        "RandomForestClassifier "
      ],
      "metadata": {
        "nteract": {
          "transient": {
            "deleting": false
          }
        }
      }
    },
    {
      "cell_type": "code",
      "source": [
        "from sklearn.ensemble import RandomForestClassifier\r\n",
        "\r\n",
        "model = RandomForestClassifier(random_state=13)\r\n",
        "model.fit(train_x, train_y)"
      ],
      "outputs": [
        {
          "output_type": "execute_result",
          "execution_count": 17,
          "data": {
            "text/plain": "RandomForestClassifier(bootstrap=True, ccp_alpha=0.0, class_weight=None,\n                       criterion='gini', max_depth=None, max_features='auto',\n                       max_leaf_nodes=None, max_samples=None,\n                       min_impurity_decrease=0.0, min_impurity_split=None,\n                       min_samples_leaf=1, min_samples_split=2,\n                       min_weight_fraction_leaf=0.0, n_estimators=100,\n                       n_jobs=None, oob_score=False, random_state=13, verbose=0,\n                       warm_start=False)"
          },
          "metadata": {}
        }
      ],
      "execution_count": 17,
      "metadata": {
        "jupyter": {
          "source_hidden": false,
          "outputs_hidden": false
        },
        "nteract": {
          "transient": {
            "deleting": false
          }
        },
        "gather": {
          "logged": 1664458089835
        }
      }
    },
    {
      "cell_type": "code",
      "source": [
        "predicted = model.predict(test_x)\r\n",
        "model.score(test_x, test_y)"
      ],
      "outputs": [
        {
          "output_type": "execute_result",
          "execution_count": 18,
          "data": {
            "text/plain": "0.8642634623943035"
          },
          "metadata": {}
        }
      ],
      "execution_count": 18,
      "metadata": {
        "jupyter": {
          "source_hidden": false,
          "outputs_hidden": false
        },
        "nteract": {
          "transient": {
            "deleting": false
          }
        },
        "gather": {
          "logged": 1664458112745
        }
      }
    },
    {
      "cell_type": "markdown",
      "source": [
        "ROC AUC"
      ],
      "metadata": {
        "nteract": {
          "transient": {
            "deleting": false
          }
        }
      }
    },
    {
      "cell_type": "code",
      "source": [
        "from sklearn.metrics import roc_auc_score\r\n",
        "probabilities = model.predict_proba(test_x)"
      ],
      "outputs": [],
      "execution_count": 19,
      "metadata": {
        "jupyter": {
          "source_hidden": false,
          "outputs_hidden": false
        },
        "nteract": {
          "transient": {
            "deleting": false
          }
        },
        "gather": {
          "logged": 1664458155288
        }
      }
    },
    {
      "cell_type": "code",
      "source": [
        "roc_auc_score(test_y, probabilities[:, 1])"
      ],
      "outputs": [
        {
          "output_type": "execute_result",
          "execution_count": 20,
          "data": {
            "text/plain": "0.7014819895830565"
          },
          "metadata": {}
        }
      ],
      "execution_count": 20,
      "metadata": {
        "jupyter": {
          "source_hidden": false,
          "outputs_hidden": false
        },
        "nteract": {
          "transient": {
            "deleting": false
          }
        },
        "gather": {
          "logged": 1664458169252
        }
      }
    },
    {
      "cell_type": "markdown",
      "source": [
        "Confussion matrix"
      ],
      "metadata": {
        "nteract": {
          "transient": {
            "deleting": false
          }
        }
      }
    },
    {
      "cell_type": "code",
      "source": [
        "from sklearn.metrics import confusion_matrix\r\n",
        "confusion_matrix(test_y, predicted)"
      ],
      "outputs": [
        {
          "output_type": "execute_result",
          "execution_count": 21,
          "data": {
            "text/plain": "array([[1903,   33],\n       [ 272,   39]])"
          },
          "metadata": {}
        }
      ],
      "execution_count": 21,
      "metadata": {
        "jupyter": {
          "source_hidden": false,
          "outputs_hidden": false
        },
        "nteract": {
          "transient": {
            "deleting": false
          }
        },
        "gather": {
          "logged": 1664458192842
        }
      }
    },
    {
      "cell_type": "code",
      "source": [
        "from sklearn.metrics import precision_score\r\n",
        "\r\n",
        "train_predictions = model.predict(train_x)\r\n",
        "precision_score(train_y, train_predictions)"
      ],
      "outputs": [
        {
          "output_type": "execute_result",
          "execution_count": 22,
          "data": {
            "text/plain": "1.0"
          },
          "metadata": {}
        }
      ],
      "execution_count": 22,
      "metadata": {
        "jupyter": {
          "source_hidden": false,
          "outputs_hidden": false
        },
        "nteract": {
          "transient": {
            "deleting": false
          }
        },
        "gather": {
          "logged": 1664458211930
        }
      }
    },
    {
      "cell_type": "code",
      "source": [
        "from sklearn.metrics import recall_score\r\n",
        "\r\n",
        "recall_score(train_y, train_predictions)"
      ],
      "outputs": [
        {
          "output_type": "execute_result",
          "execution_count": 23,
          "data": {
            "text/plain": "0.9992012779552716"
          },
          "metadata": {}
        }
      ],
      "execution_count": 23,
      "metadata": {
        "jupyter": {
          "source_hidden": false,
          "outputs_hidden": false
        },
        "nteract": {
          "transient": {
            "deleting": false
          }
        },
        "gather": {
          "logged": 1664458221792
        }
      }
    },
    {
      "cell_type": "markdown",
      "source": [
        "# Visualize"
      ],
      "metadata": {
        "nteract": {
          "transient": {
            "deleting": false
          }
        }
      }
    },
    {
      "cell_type": "code",
      "source": [
        "%matplotlib inline\r\n",
        "import matplotlib.pyplot as plt\r\n",
        "import seaborn as sns\r\n",
        "\r\n",
        "sns.set()"
      ],
      "outputs": [],
      "execution_count": 24,
      "metadata": {
        "jupyter": {
          "source_hidden": false,
          "outputs_hidden": false
        },
        "nteract": {
          "transient": {
            "deleting": false
          }
        },
        "gather": {
          "logged": 1664458246096
        }
      }
    },
    {
      "cell_type": "code",
      "source": [
        "from sklearn.metrics import roc_curve\r\n",
        "\r\n",
        "fpr, tpr, _ = roc_curve(test_y, probabilities[:, 1])\r\n",
        "plt.plot(fpr, tpr)\r\n",
        "plt.plot([0, 1], [0, 1], color='grey', lw=1, linestyle='--')\r\n",
        "plt.xlabel('False Positive Rate')\r\n",
        "plt.ylabel('True Positive Rate')"
      ],
      "outputs": [
        {
          "output_type": "execute_result",
          "execution_count": 25,
          "data": {
            "text/plain": "Text(0, 0.5, 'True Positive Rate')"
          },
          "metadata": {}
        },
        {
          "output_type": "display_data",
          "data": {
            "text/plain": "<Figure size 432x288 with 1 Axes>",
            "image/png": "[encoded data removed]"
          },
          "metadata": {}
        }
      ],
      "execution_count": 25,
      "metadata": {
        "jupyter": {
          "source_hidden": false,
          "outputs_hidden": false
        },
        "nteract": {
          "transient": {
            "deleting": false
          }
        },
        "gather": {
          "logged": 1664458253476
        }
      }
    },
    {
      "cell_type": "code",
      "source": [
        "def predict_delay(departure_date_time, origin, destination):\r\n",
        "    from datetime import datetime\r\n",
        "\r\n",
        "    try:\r\n",
        "        departure_date_time_parsed = datetime.strptime(departure_date_time, '%d/%m/%Y %H:%M:%S')\r\n",
        "    except ValueError as e:\r\n",
        "        return 'Error parsing date/time - {}'.format(e)\r\n",
        "\r\n",
        "    month = departure_date_time_parsed.month\r\n",
        "    day = departure_date_time_parsed.day\r\n",
        "    day_of_week = departure_date_time_parsed.isoweekday()\r\n",
        "    hour = departure_date_time_parsed.hour\r\n",
        "\r\n",
        "    origin = origin.upper()\r\n",
        "    destination = destination.upper()\r\n",
        "\r\n",
        "    input = [{'MONTH': month,\r\n",
        "              'DAY': day,\r\n",
        "              'DAY_OF_WEEK': day_of_week,\r\n",
        "              'CRS_DEP_TIME': hour,\r\n",
        "              'ORIGIN_ATL': 1 if origin == 'ATL' else 0,\r\n",
        "              'ORIGIN_DTW': 1 if origin == 'DTW' else 0,\r\n",
        "              'ORIGIN_JFK': 1 if origin == 'JFK' else 0,\r\n",
        "              'ORIGIN_MSP': 1 if origin == 'MSP' else 0,\r\n",
        "              'ORIGIN_SEA': 1 if origin == 'SEA' else 0,\r\n",
        "              'DEST_ATL': 1 if destination == 'ATL' else 0,\r\n",
        "              'DEST_DTW': 1 if destination == 'DTW' else 0,\r\n",
        "              'DEST_JFK': 1 if destination == 'JFK' else 0,\r\n",
        "              'DEST_MSP': 1 if destination == 'MSP' else 0,\r\n",
        "              'DEST_SEA': 1 if destination == 'SEA' else 0 }]\r\n",
        "\r\n",
        "    return model.predict_proba(pd.DataFrame(input))[0][0]"
      ],
      "outputs": [],
      "execution_count": 26,
      "metadata": {
        "jupyter": {
          "source_hidden": false,
          "outputs_hidden": false
        },
        "nteract": {
          "transient": {
            "deleting": false
          }
        },
        "gather": {
          "logged": 1664458265657
        }
      }
    },
    {
      "cell_type": "code",
      "source": [
        "predict_delay('1/10/2018 21:45:00', 'JFK', 'ATL')"
      ],
      "outputs": [
        {
          "output_type": "execute_result",
          "execution_count": 27,
          "data": {
            "text/plain": "0.88"
          },
          "metadata": {}
        }
      ],
      "execution_count": 27,
      "metadata": {
        "jupyter": {
          "source_hidden": false,
          "outputs_hidden": false
        },
        "nteract": {
          "transient": {
            "deleting": false
          }
        },
        "gather": {
          "logged": 1664458284822
        }
      }
    },
    {
      "cell_type": "code",
      "source": [
        "predict_delay('2/10/2018 21:45:00', 'JFK', 'ATL')"
      ],
      "outputs": [
        {
          "output_type": "execute_result",
          "execution_count": 28,
          "data": {
            "text/plain": "0.87"
          },
          "metadata": {}
        }
      ],
      "execution_count": 28,
      "metadata": {
        "jupyter": {
          "source_hidden": false,
          "outputs_hidden": false
        },
        "nteract": {
          "transient": {
            "deleting": false
          }
        },
        "gather": {
          "logged": 1664458294472
        }
      }
    },
    {
      "cell_type": "code",
      "source": [
        "predict_delay('2/10/2018 10:00:00', 'ATL', 'SEA')"
      ],
      "outputs": [
        {
          "output_type": "execute_result",
          "execution_count": 29,
          "data": {
            "text/plain": "0.99"
          },
          "metadata": {}
        }
      ],
      "execution_count": 29,
      "metadata": {
        "jupyter": {
          "source_hidden": false,
          "outputs_hidden": false
        },
        "nteract": {
          "transient": {
            "deleting": false
          }
        },
        "gather": {
          "logged": 1664458301198
        }
      }
    },
    {
      "cell_type": "code",
      "source": [
        "import numpy as np\r\n",
        "\r\n",
        "labels = ('Oct 1', 'Oct 2', 'Oct 3', 'Oct 4', 'Oct 5', 'Oct 6', 'Oct 7')\r\n",
        "values = (predict_delay('1/10/2018 21:45:00', 'JFK', 'ATL'),\r\n",
        "          predict_delay('2/10/2018 21:45:00', 'JFK', 'ATL'),\r\n",
        "          predict_delay('3/10/2018 21:45:00', 'JFK', 'ATL'),\r\n",
        "          predict_delay('4/10/2018 21:45:00', 'JFK', 'ATL'),\r\n",
        "          predict_delay('5/10/2018 21:45:00', 'JFK', 'ATL'),\r\n",
        "          predict_delay('6/10/2018 21:45:00', 'JFK', 'ATL'),\r\n",
        "          predict_delay('7/10/2018 21:45:00', 'JFK', 'ATL'))\r\n",
        "alabels = np.arange(len(labels))\r\n",
        "\r\n",
        "plt.bar(alabels, values, align='center', alpha=0.5)\r\n",
        "plt.xticks(alabels, labels)\r\n",
        "plt.ylabel('Probability of On-Time Arrival')\r\n",
        "plt.ylim((0.0, 1.0))"
      ],
      "outputs": [
        {
          "output_type": "execute_result",
          "execution_count": 30,
          "data": {
            "text/plain": "(0.0, 1.0)"
          },
          "metadata": {}
        },
        {
          "output_type": "display_data",
          "data": {
            "text/plain": "<Figure size 432x288 with 1 Axes>",
            "image/png": "[encoded data removed]"
          },
          "metadata": {}
        }
      ],
      "execution_count": 30,
      "metadata": {
        "jupyter": {
          "source_hidden": false,
          "outputs_hidden": false
        },
        "nteract": {
          "transient": {
            "deleting": false
          }
        },
        "gather": {
          "logged": 1664458320324
        }
      }
    }
  ],
  "metadata": {
    "kernelspec": {
      "name": "python38-azureml",
      "language": "python",
      "display_name": "Python 3.8 - AzureML"
    },
    "language_info": {
      "name": "python",
      "version": "3.8.5",
      "mimetype": "text/x-python",
      "codemirror_mode": {
        "name": "ipython",
        "version": 3
      },
      "pygments_lexer": "ipython3",
      "nbconvert_exporter": "python",
      "file_extension": ".py"
    },
    "kernel_info": {
      "name": "python38-azureml"
    },
    "nteract": {
      "version": "nteract-front-end@1.0.0"
    }
  },
  "nbformat": 4,
  "nbformat_minor": 2
}